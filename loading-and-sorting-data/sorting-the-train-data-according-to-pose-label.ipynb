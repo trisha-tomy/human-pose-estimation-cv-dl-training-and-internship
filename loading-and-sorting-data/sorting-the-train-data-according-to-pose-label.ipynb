{
 "cells": [
  {
   "cell_type": "code",
   "execution_count": 1,
   "id": "e42682e0",
   "metadata": {
    "_cell_guid": "b1076dfc-b9ad-4769-8c92-a6c4dae69d19",
    "_uuid": "8f2839f25d086af736a60e9eeb907d3b93b6e0e5",
    "execution": {
     "iopub.execute_input": "2023-07-29T15:58:18.509269Z",
     "iopub.status.busy": "2023-07-29T15:58:18.508791Z",
     "iopub.status.idle": "2023-07-29T15:58:18.831055Z",
     "shell.execute_reply": "2023-07-29T15:58:18.829828Z"
    },
    "papermill": {
     "duration": 0.334902,
     "end_time": "2023-07-29T15:58:18.834262",
     "exception": false,
     "start_time": "2023-07-29T15:58:18.499360",
     "status": "completed"
    },
    "tags": []
   },
   "outputs": [],
   "source": [
    "import csv\n",
    "import cv2\n",
    "import itertools\n",
    "import numpy as np\n",
    "import pandas as pd\n",
    "import os\n",
    "import sys\n",
    "import tempfile\n",
    "import tqdm\n",
    "train = pd.read_csv('/kaggle/input/ai2022-competition/train.csv')"
   ]
  },
  {
   "cell_type": "markdown",
   "id": "7c6cf949",
   "metadata": {
    "papermill": {
     "duration": 0.006878,
     "end_time": "2023-07-29T15:58:18.848626",
     "exception": false,
     "start_time": "2023-07-29T15:58:18.841748",
     "status": "completed"
    },
    "tags": []
   },
   "source": [
    "# Using a Custom Dataset for Training the MoveNet Preprocessor\n",
    "We used the AII2022 Conference Competition Data on Kaggle for this."
   ]
  },
  {
   "cell_type": "code",
   "execution_count": 2,
   "id": "4177e080",
   "metadata": {
    "execution": {
     "iopub.execute_input": "2023-07-29T15:58:18.864918Z",
     "iopub.status.busy": "2023-07-29T15:58:18.864507Z",
     "iopub.status.idle": "2023-07-29T15:58:18.885765Z",
     "shell.execute_reply": "2023-07-29T15:58:18.884496Z"
    },
    "papermill": {
     "duration": 0.032647,
     "end_time": "2023-07-29T15:58:18.888639",
     "exception": false,
     "start_time": "2023-07-29T15:58:18.855992",
     "status": "completed"
    },
    "tags": []
   },
   "outputs": [],
   "source": [
    "train = pd.read_csv('/kaggle/input/ai2022-competition/train.csv')"
   ]
  },
  {
   "cell_type": "code",
   "execution_count": 3,
   "id": "40df7eed",
   "metadata": {
    "execution": {
     "iopub.execute_input": "2023-07-29T15:58:18.904736Z",
     "iopub.status.busy": "2023-07-29T15:58:18.904341Z",
     "iopub.status.idle": "2023-07-29T15:58:18.926691Z",
     "shell.execute_reply": "2023-07-29T15:58:18.925703Z"
    },
    "papermill": {
     "duration": 0.033309,
     "end_time": "2023-07-29T15:58:18.929051",
     "exception": false,
     "start_time": "2023-07-29T15:58:18.895742",
     "status": "completed"
    },
    "tags": []
   },
   "outputs": [
    {
     "data": {
      "text/html": [
       "<div>\n",
       "<style scoped>\n",
       "    .dataframe tbody tr th:only-of-type {\n",
       "        vertical-align: middle;\n",
       "    }\n",
       "\n",
       "    .dataframe tbody tr th {\n",
       "        vertical-align: top;\n",
       "    }\n",
       "\n",
       "    .dataframe thead th {\n",
       "        text-align: right;\n",
       "    }\n",
       "</style>\n",
       "<table border=\"1\" class=\"dataframe\">\n",
       "  <thead>\n",
       "    <tr style=\"text-align: right;\">\n",
       "      <th></th>\n",
       "      <th>ID</th>\n",
       "      <th>PoseLabel</th>\n",
       "    </tr>\n",
       "  </thead>\n",
       "  <tbody>\n",
       "    <tr>\n",
       "      <th>0</th>\n",
       "      <td>00018.jpg</td>\n",
       "      <td>0_1_77</td>\n",
       "    </tr>\n",
       "    <tr>\n",
       "      <th>1</th>\n",
       "      <td>00020.jpg</td>\n",
       "      <td>1_5_72</td>\n",
       "    </tr>\n",
       "    <tr>\n",
       "      <th>2</th>\n",
       "      <td>00021.jpg</td>\n",
       "      <td>1_5_30</td>\n",
       "    </tr>\n",
       "    <tr>\n",
       "      <th>3</th>\n",
       "      <td>00028.jpg</td>\n",
       "      <td>0_3_73</td>\n",
       "    </tr>\n",
       "    <tr>\n",
       "      <th>4</th>\n",
       "      <td>00030.jpg</td>\n",
       "      <td>4_14_10</td>\n",
       "    </tr>\n",
       "  </tbody>\n",
       "</table>\n",
       "</div>"
      ],
      "text/plain": [
       "          ID PoseLabel\n",
       "0  00018.jpg    0_1_77\n",
       "1  00020.jpg    1_5_72\n",
       "2  00021.jpg    1_5_30\n",
       "3  00028.jpg    0_3_73\n",
       "4  00030.jpg   4_14_10"
      ]
     },
     "execution_count": 3,
     "metadata": {},
     "output_type": "execute_result"
    }
   ],
   "source": [
    "train.head()"
   ]
  },
  {
   "cell_type": "code",
   "execution_count": 4,
   "id": "3035b8b8",
   "metadata": {
    "execution": {
     "iopub.execute_input": "2023-07-29T15:58:18.945581Z",
     "iopub.status.busy": "2023-07-29T15:58:18.944905Z",
     "iopub.status.idle": "2023-07-29T15:58:18.963835Z",
     "shell.execute_reply": "2023-07-29T15:58:18.962645Z"
    },
    "papermill": {
     "duration": 0.030505,
     "end_time": "2023-07-29T15:58:18.966891",
     "exception": false,
     "start_time": "2023-07-29T15:58:18.936386",
     "status": "completed"
    },
    "tags": []
   },
   "outputs": [],
   "source": [
    "test = pd.read_csv('/kaggle/input/ai2022-competition/test.csv')"
   ]
  },
  {
   "cell_type": "code",
   "execution_count": 5,
   "id": "5bc662a9",
   "metadata": {
    "execution": {
     "iopub.execute_input": "2023-07-29T15:58:18.985132Z",
     "iopub.status.busy": "2023-07-29T15:58:18.984731Z",
     "iopub.status.idle": "2023-07-29T15:58:18.995052Z",
     "shell.execute_reply": "2023-07-29T15:58:18.993827Z"
    },
    "papermill": {
     "duration": 0.021709,
     "end_time": "2023-07-29T15:58:18.997613",
     "exception": false,
     "start_time": "2023-07-29T15:58:18.975904",
     "status": "completed"
    },
    "tags": []
   },
   "outputs": [
    {
     "data": {
      "text/html": [
       "<div>\n",
       "<style scoped>\n",
       "    .dataframe tbody tr th:only-of-type {\n",
       "        vertical-align: middle;\n",
       "    }\n",
       "\n",
       "    .dataframe tbody tr th {\n",
       "        vertical-align: top;\n",
       "    }\n",
       "\n",
       "    .dataframe thead th {\n",
       "        text-align: right;\n",
       "    }\n",
       "</style>\n",
       "<table border=\"1\" class=\"dataframe\">\n",
       "  <thead>\n",
       "    <tr style=\"text-align: right;\">\n",
       "      <th></th>\n",
       "      <th>ID</th>\n",
       "    </tr>\n",
       "  </thead>\n",
       "  <tbody>\n",
       "    <tr>\n",
       "      <th>0</th>\n",
       "      <td>74866.jpg</td>\n",
       "    </tr>\n",
       "    <tr>\n",
       "      <th>1</th>\n",
       "      <td>74868.jpg</td>\n",
       "    </tr>\n",
       "    <tr>\n",
       "      <th>2</th>\n",
       "      <td>74873.jpg</td>\n",
       "    </tr>\n",
       "    <tr>\n",
       "      <th>3</th>\n",
       "      <td>74882.jpg</td>\n",
       "    </tr>\n",
       "    <tr>\n",
       "      <th>4</th>\n",
       "      <td>74885.jpg</td>\n",
       "    </tr>\n",
       "  </tbody>\n",
       "</table>\n",
       "</div>"
      ],
      "text/plain": [
       "          ID\n",
       "0  74866.jpg\n",
       "1  74868.jpg\n",
       "2  74873.jpg\n",
       "3  74882.jpg\n",
       "4  74885.jpg"
      ]
     },
     "execution_count": 5,
     "metadata": {},
     "output_type": "execute_result"
    }
   ],
   "source": [
    "test.head()"
   ]
  },
  {
   "cell_type": "code",
   "execution_count": 6,
   "id": "3a095132",
   "metadata": {
    "execution": {
     "iopub.execute_input": "2023-07-29T15:58:19.014929Z",
     "iopub.status.busy": "2023-07-29T15:58:19.014471Z",
     "iopub.status.idle": "2023-07-29T15:58:19.020410Z",
     "shell.execute_reply": "2023-07-29T15:58:19.018862Z"
    },
    "papermill": {
     "duration": 0.017709,
     "end_time": "2023-07-29T15:58:19.022936",
     "exception": false,
     "start_time": "2023-07-29T15:58:19.005227",
     "status": "completed"
    },
    "tags": []
   },
   "outputs": [],
   "source": [
    "os.makedirs('sorted_train')"
   ]
  },
  {
   "cell_type": "code",
   "execution_count": 7,
   "id": "9956ba12",
   "metadata": {
    "execution": {
     "iopub.execute_input": "2023-07-29T15:58:19.041480Z",
     "iopub.status.busy": "2023-07-29T15:58:19.041049Z",
     "iopub.status.idle": "2023-07-29T16:01:18.927927Z",
     "shell.execute_reply": "2023-07-29T16:01:18.926496Z"
    },
    "papermill": {
     "duration": 179.904636,
     "end_time": "2023-07-29T16:01:18.935543",
     "exception": false,
     "start_time": "2023-07-29T15:58:19.030907",
     "status": "completed"
    },
    "tags": []
   },
   "outputs": [
    {
     "name": "stdout",
     "output_type": "stream",
     "text": [
      "Images sorted into separate folders based on labels and datasets.\n"
     ]
    }
   ],
   "source": [
    "import shutil\n",
    "\n",
    "# Define paths\n",
    "csv_file_path = '/kaggle/input/ai2022-competition/train.csv'\n",
    "images_dirs = {\n",
    "    'train_1': '/kaggle/input/ai2022-competition/Train_part_1/Train_part_1',\n",
    "    'train_2': '/kaggle/input/ai2022-competition/Train_part_2/Train_part_2',\n",
    "    'train_3': '/kaggle/input/ai2022-competition/Train_part_3/Train_part_3',\n",
    "}\n",
    "output_dir = '/kaggle/working/sorted_train'\n",
    "\n",
    "# Read CSV file into a pandas DataFrame\n",
    "data = pd.read_csv(csv_file_path)\n",
    "\n",
    "# Loop through each row in the DataFrame\n",
    "for index, row in data.iterrows():\n",
    "    image_filename = row['ID']\n",
    "    label = row['PoseLabel']\n",
    "\n",
    "    # Determine which dataset (folder) the image belongs toa\n",
    "    for dataset, images_dir in images_dirs.items():\n",
    "        image_src_path = os.path.join(images_dir, image_filename)\n",
    "        if os.path.exists(image_src_path):\n",
    "            # Create a folder for the label if it doesn't exista\n",
    "            label_folder = os.path.join(output_dir, label)\n",
    "            if not os.path.exists(label_folder):\n",
    "                os.makedirs(label_folder)\n",
    "\n",
    "            # Move the image to the corresponding folder\n",
    "            image_dest_path = os.path.join(label_folder, image_filename)\n",
    "            shutil.copy(image_src_path, image_dest_path)\n",
    "            break\n",
    "\n",
    "print(\"Images sorted into separate folders based on labels and datasets.\")\n",
    "\n"
   ]
  },
  {
   "cell_type": "code",
   "execution_count": 8,
   "id": "0471ddd7",
   "metadata": {
    "execution": {
     "iopub.execute_input": "2023-07-29T16:01:18.953359Z",
     "iopub.status.busy": "2023-07-29T16:01:18.952090Z",
     "iopub.status.idle": "2023-07-29T16:01:18.964316Z",
     "shell.execute_reply": "2023-07-29T16:01:18.963182Z"
    },
    "papermill": {
     "duration": 0.023549,
     "end_time": "2023-07-29T16:01:18.966629",
     "exception": false,
     "start_time": "2023-07-29T16:01:18.943080",
     "status": "completed"
    },
    "tags": []
   },
   "outputs": [
    {
     "data": {
      "text/plain": [
       "80"
      ]
     },
     "execution_count": 8,
     "metadata": {},
     "output_type": "execute_result"
    }
   ],
   "source": [
    "train['PoseLabel'].nunique()"
   ]
  },
  {
   "cell_type": "code",
   "execution_count": 9,
   "id": "11df2eb8",
   "metadata": {
    "execution": {
     "iopub.execute_input": "2023-07-29T16:01:18.984567Z",
     "iopub.status.busy": "2023-07-29T16:01:18.983448Z",
     "iopub.status.idle": "2023-07-29T16:01:18.991357Z",
     "shell.execute_reply": "2023-07-29T16:01:18.989862Z"
    },
    "papermill": {
     "duration": 0.019152,
     "end_time": "2023-07-29T16:01:18.993683",
     "exception": false,
     "start_time": "2023-07-29T16:01:18.974531",
     "status": "completed"
    },
    "tags": []
   },
   "outputs": [
    {
     "data": {
      "text/plain": [
       "['sample_submission.csv',\n",
       " 'Train_part_3',\n",
       " 'Train_part_1',\n",
       " 'Train_part_2',\n",
       " 'train.csv',\n",
       " 'test.csv',\n",
       " 'Test',\n",
       " 'ReadMe.pdf']"
      ]
     },
     "execution_count": 9,
     "metadata": {},
     "output_type": "execute_result"
    }
   ],
   "source": [
    "os.listdir('/kaggle/input/ai2022-competition')"
   ]
  },
  {
   "cell_type": "code",
   "execution_count": 10,
   "id": "9521fca6",
   "metadata": {
    "execution": {
     "iopub.execute_input": "2023-07-29T16:01:19.012329Z",
     "iopub.status.busy": "2023-07-29T16:01:19.011013Z",
     "iopub.status.idle": "2023-07-29T16:01:19.018762Z",
     "shell.execute_reply": "2023-07-29T16:01:19.017512Z"
    },
    "papermill": {
     "duration": 0.019572,
     "end_time": "2023-07-29T16:01:19.021063",
     "exception": false,
     "start_time": "2023-07-29T16:01:19.001491",
     "status": "completed"
    },
    "tags": []
   },
   "outputs": [
    {
     "data": {
      "text/plain": [
       "80"
      ]
     },
     "execution_count": 10,
     "metadata": {},
     "output_type": "execute_result"
    }
   ],
   "source": [
    "len(next(os.walk('sorted_train'))[1])"
   ]
  },
  {
   "cell_type": "code",
   "execution_count": 11,
   "id": "6cb55a83",
   "metadata": {
    "execution": {
     "iopub.execute_input": "2023-07-29T16:01:19.039247Z",
     "iopub.status.busy": "2023-07-29T16:01:19.038456Z",
     "iopub.status.idle": "2023-07-29T16:01:19.047100Z",
     "shell.execute_reply": "2023-07-29T16:01:19.045938Z"
    },
    "papermill": {
     "duration": 0.020314,
     "end_time": "2023-07-29T16:01:19.049463",
     "exception": false,
     "start_time": "2023-07-29T16:01:19.029149",
     "status": "completed"
    },
    "tags": []
   },
   "outputs": [
    {
     "data": {
      "text/plain": [
       "['5_17_70',\n",
       " '5_19_2',\n",
       " '4_13_48',\n",
       " '2_10_19',\n",
       " '1_8_35',\n",
       " '0_2_75',\n",
       " '4_16_26',\n",
       " '0_1_16',\n",
       " '4_13_33',\n",
       " '1_4_59',\n",
       " '4_14_38',\n",
       " '2_10_46',\n",
       " '1_7_67',\n",
       " '1_7_52',\n",
       " '1_4_28',\n",
       " '0_1_77',\n",
       " '5_17_5',\n",
       " '4_14_10',\n",
       " '1_4_41',\n",
       " '0_2_40',\n",
       " '0_2_31',\n",
       " '2_9_11',\n",
       " '4_13_66',\n",
       " '0_0_8',\n",
       " '4_16_44',\n",
       " '2_9_14',\n",
       " '0_1_60',\n",
       " '3_12_51',\n",
       " '2_10_55',\n",
       " '2_9_50',\n",
       " '0_0_18',\n",
       " '0_1_17',\n",
       " '4_14_20',\n",
       " '0_2_22',\n",
       " '3_12_45',\n",
       " '1_4_57',\n",
       " '1_8_0',\n",
       " '3_11_23',\n",
       " '0_3_73',\n",
       " '0_3_61',\n",
       " '4_13_79',\n",
       " '4_13_25',\n",
       " '2_9_53',\n",
       " '5_17_78',\n",
       " '4_14_27',\n",
       " '1_5_72',\n",
       " '1_8_47',\n",
       " '4_15_54',\n",
       " '5_19_4',\n",
       " '0_2_21',\n",
       " '0_3_39',\n",
       " '5_17_69',\n",
       " '2_9_24',\n",
       " '4_13_65',\n",
       " '1_4_3',\n",
       " '0_3_62',\n",
       " '1_5_13',\n",
       " '4_15_56',\n",
       " '5_17_71',\n",
       " '1_6_58',\n",
       " '1_7_49',\n",
       " '1_6_76',\n",
       " '3_11_63',\n",
       " '4_16_42',\n",
       " '4_14_9',\n",
       " '3_11_32',\n",
       " '0_1_36',\n",
       " '5_17_6',\n",
       " '1_5_1',\n",
       " '0_0_68',\n",
       " '1_5_30',\n",
       " '3_11_64',\n",
       " '4_13_12',\n",
       " '1_7_34',\n",
       " '0_3_74',\n",
       " '3_11_37',\n",
       " '0_2_29',\n",
       " '5_18_7',\n",
       " '4_16_15',\n",
       " '5_17_43']"
      ]
     },
     "execution_count": 11,
     "metadata": {},
     "output_type": "execute_result"
    }
   ],
   "source": [
    "os.listdir('sorted_train')"
   ]
  },
  {
   "cell_type": "markdown",
   "id": "9a816a68",
   "metadata": {
    "papermill": {
     "duration": 0.007905,
     "end_time": "2023-07-29T16:01:19.065579",
     "exception": false,
     "start_time": "2023-07-29T16:01:19.057674",
     "status": "completed"
    },
    "tags": []
   },
   "source": [
    "### Thus we have sorted our train data to be organised by PoseLabel which is required for the MoveNet Preprocessor to work successfully"
   ]
  },
  {
   "cell_type": "markdown",
   "id": "16cdaed5",
   "metadata": {
    "papermill": {
     "duration": 0.007835,
     "end_time": "2023-07-29T16:01:19.081585",
     "exception": false,
     "start_time": "2023-07-29T16:01:19.073750",
     "status": "completed"
    },
    "tags": []
   },
   "source": [
    "# Splitting the train data into Train and Test"
   ]
  },
  {
   "cell_type": "code",
   "execution_count": 12,
   "id": "e053d204",
   "metadata": {
    "execution": {
     "iopub.execute_input": "2023-07-29T16:01:19.099468Z",
     "iopub.status.busy": "2023-07-29T16:01:19.098971Z",
     "iopub.status.idle": "2023-07-29T16:01:19.104171Z",
     "shell.execute_reply": "2023-07-29T16:01:19.102977Z"
    },
    "papermill": {
     "duration": 0.01721,
     "end_time": "2023-07-29T16:01:19.106757",
     "exception": false,
     "start_time": "2023-07-29T16:01:19.089547",
     "status": "completed"
    },
    "tags": []
   },
   "outputs": [],
   "source": [
    "use_custom_dataset = True\n",
    "\n",
    "dataset_is_split = False"
   ]
  },
  {
   "cell_type": "code",
   "execution_count": 13,
   "id": "8e0284de",
   "metadata": {
    "execution": {
     "iopub.execute_input": "2023-07-29T16:01:19.125835Z",
     "iopub.status.busy": "2023-07-29T16:01:19.125457Z",
     "iopub.status.idle": "2023-07-29T16:01:19.141296Z",
     "shell.execute_reply": "2023-07-29T16:01:19.140046Z"
    },
    "papermill": {
     "duration": 0.028526,
     "end_time": "2023-07-29T16:01:19.143661",
     "exception": false,
     "start_time": "2023-07-29T16:01:19.115135",
     "status": "completed"
    },
    "tags": []
   },
   "outputs": [],
   "source": [
    "import os\n",
    "import random\n",
    "import shutil\n",
    "\n",
    "def split_into_train_test(images_origin, images_dest, test_split):\n",
    "  \"\"\"Splits a directory of sorted images into training and test sets.\n",
    "\n",
    "  Args:\n",
    "    images_origin: Path to the directory with your images. This directory\n",
    "      must include subdirectories for each of your labeled classes. For example:\n",
    "      yoga_poses/\n",
    "      |__ downdog/\n",
    "          |______ 00000128.jpg\n",
    "          |______ 00000181.jpg\n",
    "          |______ ...\n",
    "      |__ goddess/\n",
    "          |______ 00000243.jpg\n",
    "          |______ 00000306.jpg\n",
    "          |______ ...\n",
    "      ...\n",
    "    images_dest: Path to a directory where you want the split dataset to be\n",
    "      saved. The results looks like this:\n",
    "      split_yoga_poses/\n",
    "      |__ train/\n",
    "          |__ downdog/\n",
    "              |______ 00000128.jpg\n",
    "              |______ ...\n",
    "      |__ test/\n",
    "          |__ downdog/\n",
    "              |______ 00000181.jpg\n",
    "              |______ ...\n",
    "    test_split: Fraction of data to reserve for test (float between 0 and 1).\n",
    "  \"\"\"\n",
    "  _, dirs, _ = next(os.walk(images_origin))\n",
    "\n",
    "  TRAIN_DIR = os.path.join(images_dest, 'train')\n",
    "  TEST_DIR = os.path.join(images_dest, 'test')\n",
    "  os.makedirs(TRAIN_DIR, exist_ok=True)\n",
    "  os.makedirs(TEST_DIR, exist_ok=True)\n",
    "\n",
    "  for dir in dirs:\n",
    "    # Get all filenames for this dir, filtered by filetype\n",
    "    filenames = os.listdir(os.path.join(images_origin, dir))\n",
    "    filenames = [os.path.join(images_origin, dir, f) for f in filenames if (\n",
    "        f.endswith('.png') or f.endswith('.jpg') or f.endswith('.jpeg') or f.endswith('.bmp'))]\n",
    "    # Shuffle the files, deterministically\n",
    "    filenames.sort()\n",
    "    random.seed(42)\n",
    "    random.shuffle(filenames)\n",
    "    # Divide them into train/test dirs\n",
    "    os.makedirs(os.path.join(TEST_DIR, dir), exist_ok=True)\n",
    "    os.makedirs(os.path.join(TRAIN_DIR, dir), exist_ok=True)\n",
    "    test_count = int(len(filenames) * test_split)\n",
    "    for i, file in enumerate(filenames):\n",
    "      if i < test_count:\n",
    "        destination = os.path.join(TEST_DIR, dir, os.path.split(file)[1])\n",
    "      else:\n",
    "        destination = os.path.join(TRAIN_DIR, dir, os.path.split(file)[1])\n",
    "      shutil.copyfile(file, destination)\n",
    "    print(f'Moved {test_count} of {len(filenames)} from class \"{dir}\" into test.')\n",
    "  print(f'Your split dataset is in \"{images_dest}\"')\n"
   ]
  },
  {
   "cell_type": "code",
   "execution_count": 14,
   "id": "9499054b",
   "metadata": {
    "execution": {
     "iopub.execute_input": "2023-07-29T16:01:19.162246Z",
     "iopub.status.busy": "2023-07-29T16:01:19.161767Z",
     "iopub.status.idle": "2023-07-29T16:01:22.678833Z",
     "shell.execute_reply": "2023-07-29T16:01:22.677338Z"
    },
    "papermill": {
     "duration": 3.529465,
     "end_time": "2023-07-29T16:01:22.681484",
     "exception": false,
     "start_time": "2023-07-29T16:01:19.152019",
     "status": "completed"
    },
    "tags": []
   },
   "outputs": [
    {
     "name": "stdout",
     "output_type": "stream",
     "text": [
      "Moved 9 of 46 from class \"5_17_70\" into test.\n",
      "Moved 54 of 273 from class \"5_19_2\" into test.\n",
      "Moved 20 of 102 from class \"4_13_48\" into test.\n",
      "Moved 25 of 127 from class \"2_10_19\" into test.\n",
      "Moved 17 of 89 from class \"1_8_35\" into test.\n",
      "Moved 24 of 121 from class \"0_2_75\" into test.\n",
      "Moved 29 of 147 from class \"4_16_26\" into test.\n",
      "Moved 10 of 50 from class \"0_1_16\" into test.\n",
      "Moved 23 of 117 from class \"4_13_33\" into test.\n",
      "Moved 12 of 60 from class \"1_4_59\" into test.\n",
      "Moved 33 of 167 from class \"4_14_38\" into test.\n",
      "Moved 20 of 104 from class \"2_10_46\" into test.\n",
      "Moved 17 of 89 from class \"1_7_67\" into test.\n",
      "Moved 50 of 251 from class \"1_7_52\" into test.\n",
      "Moved 30 of 152 from class \"1_4_28\" into test.\n",
      "Moved 36 of 182 from class \"0_1_77\" into test.\n",
      "Moved 36 of 182 from class \"5_17_5\" into test.\n",
      "Moved 109 of 548 from class \"4_14_10\" into test.\n",
      "Moved 6 of 30 from class \"1_4_41\" into test.\n",
      "Moved 32 of 161 from class \"0_2_40\" into test.\n",
      "Moved 33 of 169 from class \"0_2_31\" into test.\n",
      "Moved 18 of 90 from class \"2_9_11\" into test.\n",
      "Moved 39 of 198 from class \"4_13_66\" into test.\n",
      "Moved 41 of 209 from class \"0_0_8\" into test.\n",
      "Moved 8 of 43 from class \"4_16_44\" into test.\n",
      "Moved 39 of 196 from class \"2_9_14\" into test.\n",
      "Moved 53 of 266 from class \"0_1_60\" into test.\n",
      "Moved 29 of 146 from class \"3_12_51\" into test.\n",
      "Moved 22 of 113 from class \"2_10_55\" into test.\n",
      "Moved 17 of 85 from class \"2_9_50\" into test.\n",
      "Moved 37 of 186 from class \"0_0_18\" into test.\n",
      "Moved 41 of 207 from class \"0_1_17\" into test.\n",
      "Moved 11 of 55 from class \"4_14_20\" into test.\n",
      "Moved 73 of 365 from class \"0_2_22\" into test.\n",
      "Moved 47 of 236 from class \"3_12_45\" into test.\n",
      "Moved 90 of 450 from class \"1_4_57\" into test.\n",
      "Moved 9 of 45 from class \"1_8_0\" into test.\n",
      "Moved 27 of 136 from class \"3_11_23\" into test.\n",
      "Moved 26 of 131 from class \"0_3_73\" into test.\n",
      "Moved 17 of 88 from class \"0_3_61\" into test.\n",
      "Moved 1 of 5 from class \"4_13_79\" into test.\n",
      "Moved 40 of 201 from class \"4_13_25\" into test.\n",
      "Moved 11 of 58 from class \"2_9_53\" into test.\n",
      "Moved 25 of 125 from class \"5_17_78\" into test.\n",
      "Moved 20 of 103 from class \"4_14_27\" into test.\n",
      "Moved 42 of 210 from class \"1_5_72\" into test.\n",
      "Moved 39 of 195 from class \"1_8_47\" into test.\n",
      "Moved 8 of 42 from class \"4_15_54\" into test.\n",
      "Moved 27 of 139 from class \"5_19_4\" into test.\n",
      "Moved 72 of 360 from class \"0_2_21\" into test.\n",
      "Moved 54 of 271 from class \"0_3_39\" into test.\n",
      "Moved 43 of 218 from class \"5_17_69\" into test.\n",
      "Moved 25 of 128 from class \"2_9_24\" into test.\n",
      "Moved 41 of 209 from class \"4_13_65\" into test.\n",
      "Moved 34 of 170 from class \"1_4_3\" into test.\n",
      "Moved 23 of 117 from class \"0_3_62\" into test.\n",
      "Moved 39 of 197 from class \"1_5_13\" into test.\n",
      "Moved 40 of 204 from class \"4_15_56\" into test.\n",
      "Moved 30 of 152 from class \"5_17_71\" into test.\n",
      "Moved 42 of 211 from class \"1_6_58\" into test.\n",
      "Moved 28 of 142 from class \"1_7_49\" into test.\n",
      "Moved 24 of 121 from class \"1_6_76\" into test.\n",
      "Moved 41 of 207 from class \"3_11_63\" into test.\n",
      "Moved 18 of 90 from class \"4_16_42\" into test.\n",
      "Moved 42 of 211 from class \"4_14_9\" into test.\n",
      "Moved 26 of 134 from class \"3_11_32\" into test.\n",
      "Moved 23 of 118 from class \"0_1_36\" into test.\n",
      "Moved 42 of 211 from class \"5_17_6\" into test.\n",
      "Moved 9 of 46 from class \"1_5_1\" into test.\n",
      "Moved 36 of 184 from class \"0_0_68\" into test.\n",
      "Moved 43 of 215 from class \"1_5_30\" into test.\n",
      "Moved 39 of 199 from class \"3_11_64\" into test.\n",
      "Moved 42 of 214 from class \"4_13_12\" into test.\n",
      "Moved 22 of 111 from class \"1_7_34\" into test.\n",
      "Moved 36 of 184 from class \"0_3_74\" into test.\n",
      "Moved 28 of 142 from class \"3_11_37\" into test.\n",
      "Moved 20 of 102 from class \"0_2_29\" into test.\n",
      "Moved 54 of 272 from class \"5_18_7\" into test.\n",
      "Moved 6 of 30 from class \"4_16_15\" into test.\n",
      "Moved 6 of 30 from class \"5_17_43\" into test.\n",
      "Your split dataset is in \"/kaggle/working/split_data\"\n"
     ]
    }
   ],
   "source": [
    "dataset_in = '/kaggle/working/sorted_train'\n",
    "\n",
    "# You can leave the rest alone:\n",
    "if not os.path.isdir(dataset_in):\n",
    "  raise Exception(\"dataset_in is not a valid directory\")\n",
    "if dataset_is_split:\n",
    "  IMAGES_ROOT = dataset_in\n",
    "else:\n",
    "  dataset_out = '/kaggle/working/split_data'\n",
    "  split_into_train_test(dataset_in, dataset_out, test_split=0.2)\n",
    "  IMAGES_ROOT = dataset_out\n",
    "\n"
   ]
  },
  {
   "cell_type": "markdown",
   "id": "1742406d",
   "metadata": {
    "papermill": {
     "duration": 0.009413,
     "end_time": "2023-07-29T16:01:22.700916",
     "exception": false,
     "start_time": "2023-07-29T16:01:22.691503",
     "status": "completed"
    },
    "tags": []
   },
   "source": [
    "## Now let's download the train and test folders to further use them for preprocessing"
   ]
  },
  {
   "cell_type": "code",
   "execution_count": 15,
   "id": "b9a35cb3",
   "metadata": {
    "execution": {
     "iopub.execute_input": "2023-07-29T16:01:22.722706Z",
     "iopub.status.busy": "2023-07-29T16:01:22.722287Z",
     "iopub.status.idle": "2023-07-29T16:02:50.956523Z",
     "shell.execute_reply": "2023-07-29T16:02:50.955149Z"
    },
    "papermill": {
     "duration": 88.264003,
     "end_time": "2023-07-29T16:02:50.974663",
     "exception": false,
     "start_time": "2023-07-29T16:01:22.710660",
     "status": "completed"
    },
    "tags": []
   },
   "outputs": [
    {
     "name": "stdout",
     "output_type": "stream",
     "text": [
      "Folder '/kaggle/working/split_data' has been compressed and saved as '/kaggle/working/split_data.zip'.\n"
     ]
    }
   ],
   "source": [
    "import zipfile\n",
    "\n",
    "# Define the path of the folder you want to download\n",
    "folder_path = '/kaggle/working/split_data'\n",
    "\n",
    "# Define the path of the .zip file you want to create\n",
    "zip_file_path = '/kaggle/working/split_data.zip'\n",
    "\n",
    "# Create a .zip file containing the contents of the folder\n",
    "with zipfile.ZipFile(zip_file_path, 'w', zipfile.ZIP_DEFLATED) as zipf:\n",
    "    for root, _, files in os.walk(folder_path):\n",
    "        for file in files:\n",
    "            file_path = os.path.join(root, file)\n",
    "            arcname = os.path.relpath(file_path, folder_path)\n",
    "            zipf.write(file_path, arcname)\n",
    "\n",
    "print(f\"Folder '{folder_path}' has been compressed and saved as '{zip_file_path}'.\")"
   ]
  },
  {
   "cell_type": "code",
   "execution_count": 16,
   "id": "d67ef42c",
   "metadata": {
    "execution": {
     "iopub.execute_input": "2023-07-29T16:02:50.996961Z",
     "iopub.status.busy": "2023-07-29T16:02:50.996510Z",
     "iopub.status.idle": "2023-07-29T16:02:51.004290Z",
     "shell.execute_reply": "2023-07-29T16:02:51.003081Z"
    },
    "papermill": {
     "duration": 0.022375,
     "end_time": "2023-07-29T16:02:51.006997",
     "exception": false,
     "start_time": "2023-07-29T16:02:50.984622",
     "status": "completed"
    },
    "tags": []
   },
   "outputs": [
    {
     "data": {
      "text/html": [
       "<a href='split_data.zip' target='_blank'>split_data.zip</a><br>"
      ],
      "text/plain": [
       "/kaggle/working/split_data.zip"
      ]
     },
     "execution_count": 16,
     "metadata": {},
     "output_type": "execute_result"
    }
   ],
   "source": [
    "import IPython\n",
    "IPython.display.FileLink('split_data.zip')\n"
   ]
  },
  {
   "cell_type": "markdown",
   "id": "905241d2",
   "metadata": {
    "papermill": {
     "duration": 0.00971,
     "end_time": "2023-07-29T16:02:51.027019",
     "exception": false,
     "start_time": "2023-07-29T16:02:51.017309",
     "status": "completed"
    },
    "tags": []
   },
   "source": [
    "# Next Steps\n",
    "After this we downloaded the split train data and split it into two and preprocessed them separately because of RAM limits on Kaggle, and then preprocessed the test data as well."
   ]
  }
 ],
 "metadata": {
  "kernelspec": {
   "display_name": "Python 3",
   "language": "python",
   "name": "python3"
  },
  "language_info": {
   "codemirror_mode": {
    "name": "ipython",
    "version": 3
   },
   "file_extension": ".py",
   "mimetype": "text/x-python",
   "name": "python",
   "nbconvert_exporter": "python",
   "pygments_lexer": "ipython3",
   "version": "3.10.12"
  },
  "papermill": {
   "default_parameters": {},
   "duration": 287.489419,
   "end_time": "2023-07-29T16:02:52.061863",
   "environment_variables": {},
   "exception": null,
   "input_path": "__notebook__.ipynb",
   "output_path": "__notebook__.ipynb",
   "parameters": {},
   "start_time": "2023-07-29T15:58:04.572444",
   "version": "2.4.0"
  }
 },
 "nbformat": 4,
 "nbformat_minor": 5
}
