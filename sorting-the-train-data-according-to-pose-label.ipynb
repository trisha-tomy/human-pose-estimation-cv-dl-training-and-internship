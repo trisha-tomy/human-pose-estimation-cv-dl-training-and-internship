{
 "cells": [
  {
   "cell_type": "code",
   "execution_count": 1,
   "id": "83db9067",
   "metadata": {
    "_cell_guid": "b1076dfc-b9ad-4769-8c92-a6c4dae69d19",
    "_uuid": "8f2839f25d086af736a60e9eeb907d3b93b6e0e5",
    "execution": {
     "iopub.execute_input": "2023-07-28T12:44:04.022849Z",
     "iopub.status.busy": "2023-07-28T12:44:04.022318Z",
     "iopub.status.idle": "2023-07-28T12:44:04.328030Z",
     "shell.execute_reply": "2023-07-28T12:44:04.326688Z"
    },
    "papermill": {
     "duration": 0.316775,
     "end_time": "2023-07-28T12:44:04.330982",
     "exception": false,
     "start_time": "2023-07-28T12:44:04.014207",
     "status": "completed"
    },
    "tags": []
   },
   "outputs": [],
   "source": [
    "import csv\n",
    "import cv2\n",
    "import itertools\n",
    "import numpy as np\n",
    "import pandas as pd\n",
    "import os\n",
    "import sys\n",
    "import tempfile\n",
    "import tqdm\n",
    "train = pd.read_csv('/kaggle/input/ai2022-competition/train.csv')"
   ]
  },
  {
   "cell_type": "markdown",
   "id": "bd4a74f5",
   "metadata": {
    "papermill": {
     "duration": 0.005051,
     "end_time": "2023-07-28T12:44:04.341845",
     "exception": false,
     "start_time": "2023-07-28T12:44:04.336794",
     "status": "completed"
    },
    "tags": []
   },
   "source": [
    "# Using a Custom Dataset for Training the MoveNet Preprocessor\n",
    "We used the AII2022 Conference Competition Data on Kaggle for this."
   ]
  },
  {
   "cell_type": "code",
   "execution_count": 2,
   "id": "5f81686b",
   "metadata": {
    "execution": {
     "iopub.execute_input": "2023-07-28T12:44:04.354234Z",
     "iopub.status.busy": "2023-07-28T12:44:04.353842Z",
     "iopub.status.idle": "2023-07-28T12:44:04.374343Z",
     "shell.execute_reply": "2023-07-28T12:44:04.373028Z"
    },
    "papermill": {
     "duration": 0.029973,
     "end_time": "2023-07-28T12:44:04.377183",
     "exception": false,
     "start_time": "2023-07-28T12:44:04.347210",
     "status": "completed"
    },
    "tags": []
   },
   "outputs": [],
   "source": [
    "train = pd.read_csv('/kaggle/input/ai2022-competition/train.csv')"
   ]
  },
  {
   "cell_type": "code",
   "execution_count": 3,
   "id": "b61942c1",
   "metadata": {
    "execution": {
     "iopub.execute_input": "2023-07-28T12:44:04.390246Z",
     "iopub.status.busy": "2023-07-28T12:44:04.389850Z",
     "iopub.status.idle": "2023-07-28T12:44:04.409851Z",
     "shell.execute_reply": "2023-07-28T12:44:04.408611Z"
    },
    "papermill": {
     "duration": 0.029336,
     "end_time": "2023-07-28T12:44:04.412435",
     "exception": false,
     "start_time": "2023-07-28T12:44:04.383099",
     "status": "completed"
    },
    "tags": []
   },
   "outputs": [
    {
     "data": {
      "text/html": [
       "<div>\n",
       "<style scoped>\n",
       "    .dataframe tbody tr th:only-of-type {\n",
       "        vertical-align: middle;\n",
       "    }\n",
       "\n",
       "    .dataframe tbody tr th {\n",
       "        vertical-align: top;\n",
       "    }\n",
       "\n",
       "    .dataframe thead th {\n",
       "        text-align: right;\n",
       "    }\n",
       "</style>\n",
       "<table border=\"1\" class=\"dataframe\">\n",
       "  <thead>\n",
       "    <tr style=\"text-align: right;\">\n",
       "      <th></th>\n",
       "      <th>ID</th>\n",
       "      <th>PoseLabel</th>\n",
       "    </tr>\n",
       "  </thead>\n",
       "  <tbody>\n",
       "    <tr>\n",
       "      <th>0</th>\n",
       "      <td>00018.jpg</td>\n",
       "      <td>0_1_77</td>\n",
       "    </tr>\n",
       "    <tr>\n",
       "      <th>1</th>\n",
       "      <td>00020.jpg</td>\n",
       "      <td>1_5_72</td>\n",
       "    </tr>\n",
       "    <tr>\n",
       "      <th>2</th>\n",
       "      <td>00021.jpg</td>\n",
       "      <td>1_5_30</td>\n",
       "    </tr>\n",
       "    <tr>\n",
       "      <th>3</th>\n",
       "      <td>00028.jpg</td>\n",
       "      <td>0_3_73</td>\n",
       "    </tr>\n",
       "    <tr>\n",
       "      <th>4</th>\n",
       "      <td>00030.jpg</td>\n",
       "      <td>4_14_10</td>\n",
       "    </tr>\n",
       "  </tbody>\n",
       "</table>\n",
       "</div>"
      ],
      "text/plain": [
       "          ID PoseLabel\n",
       "0  00018.jpg    0_1_77\n",
       "1  00020.jpg    1_5_72\n",
       "2  00021.jpg    1_5_30\n",
       "3  00028.jpg    0_3_73\n",
       "4  00030.jpg   4_14_10"
      ]
     },
     "execution_count": 3,
     "metadata": {},
     "output_type": "execute_result"
    }
   ],
   "source": [
    "train.head()"
   ]
  },
  {
   "cell_type": "code",
   "execution_count": 4,
   "id": "d981f7de",
   "metadata": {
    "execution": {
     "iopub.execute_input": "2023-07-28T12:44:04.425687Z",
     "iopub.status.busy": "2023-07-28T12:44:04.425252Z",
     "iopub.status.idle": "2023-07-28T12:44:04.437688Z",
     "shell.execute_reply": "2023-07-28T12:44:04.436403Z"
    },
    "papermill": {
     "duration": 0.022311,
     "end_time": "2023-07-28T12:44:04.440321",
     "exception": false,
     "start_time": "2023-07-28T12:44:04.418010",
     "status": "completed"
    },
    "tags": []
   },
   "outputs": [],
   "source": [
    "test = pd.read_csv('/kaggle/input/ai2022-competition/test.csv')"
   ]
  },
  {
   "cell_type": "code",
   "execution_count": 5,
   "id": "9045e6ac",
   "metadata": {
    "execution": {
     "iopub.execute_input": "2023-07-28T12:44:04.454150Z",
     "iopub.status.busy": "2023-07-28T12:44:04.453778Z",
     "iopub.status.idle": "2023-07-28T12:44:04.463977Z",
     "shell.execute_reply": "2023-07-28T12:44:04.462787Z"
    },
    "papermill": {
     "duration": 0.019981,
     "end_time": "2023-07-28T12:44:04.466287",
     "exception": false,
     "start_time": "2023-07-28T12:44:04.446306",
     "status": "completed"
    },
    "tags": []
   },
   "outputs": [
    {
     "data": {
      "text/html": [
       "<div>\n",
       "<style scoped>\n",
       "    .dataframe tbody tr th:only-of-type {\n",
       "        vertical-align: middle;\n",
       "    }\n",
       "\n",
       "    .dataframe tbody tr th {\n",
       "        vertical-align: top;\n",
       "    }\n",
       "\n",
       "    .dataframe thead th {\n",
       "        text-align: right;\n",
       "    }\n",
       "</style>\n",
       "<table border=\"1\" class=\"dataframe\">\n",
       "  <thead>\n",
       "    <tr style=\"text-align: right;\">\n",
       "      <th></th>\n",
       "      <th>ID</th>\n",
       "    </tr>\n",
       "  </thead>\n",
       "  <tbody>\n",
       "    <tr>\n",
       "      <th>0</th>\n",
       "      <td>74866.jpg</td>\n",
       "    </tr>\n",
       "    <tr>\n",
       "      <th>1</th>\n",
       "      <td>74868.jpg</td>\n",
       "    </tr>\n",
       "    <tr>\n",
       "      <th>2</th>\n",
       "      <td>74873.jpg</td>\n",
       "    </tr>\n",
       "    <tr>\n",
       "      <th>3</th>\n",
       "      <td>74882.jpg</td>\n",
       "    </tr>\n",
       "    <tr>\n",
       "      <th>4</th>\n",
       "      <td>74885.jpg</td>\n",
       "    </tr>\n",
       "  </tbody>\n",
       "</table>\n",
       "</div>"
      ],
      "text/plain": [
       "          ID\n",
       "0  74866.jpg\n",
       "1  74868.jpg\n",
       "2  74873.jpg\n",
       "3  74882.jpg\n",
       "4  74885.jpg"
      ]
     },
     "execution_count": 5,
     "metadata": {},
     "output_type": "execute_result"
    }
   ],
   "source": [
    "test.head()"
   ]
  },
  {
   "cell_type": "code",
   "execution_count": 6,
   "id": "d49ee78d",
   "metadata": {
    "execution": {
     "iopub.execute_input": "2023-07-28T12:44:04.479757Z",
     "iopub.status.busy": "2023-07-28T12:44:04.479282Z",
     "iopub.status.idle": "2023-07-28T12:44:04.484907Z",
     "shell.execute_reply": "2023-07-28T12:44:04.483696Z"
    },
    "papermill": {
     "duration": 0.015433,
     "end_time": "2023-07-28T12:44:04.487517",
     "exception": false,
     "start_time": "2023-07-28T12:44:04.472084",
     "status": "completed"
    },
    "tags": []
   },
   "outputs": [],
   "source": [
    "os.makedirs('sorted_train')"
   ]
  },
  {
   "cell_type": "code",
   "execution_count": 7,
   "id": "af9d10da",
   "metadata": {
    "execution": {
     "iopub.execute_input": "2023-07-28T12:44:04.502942Z",
     "iopub.status.busy": "2023-07-28T12:44:04.502485Z",
     "iopub.status.idle": "2023-07-28T12:45:50.162391Z",
     "shell.execute_reply": "2023-07-28T12:45:50.161539Z"
    },
    "papermill": {
     "duration": 105.67483,
     "end_time": "2023-07-28T12:45:50.170041",
     "exception": false,
     "start_time": "2023-07-28T12:44:04.495211",
     "status": "completed"
    },
    "tags": []
   },
   "outputs": [
    {
     "name": "stdout",
     "output_type": "stream",
     "text": [
      "Images sorted into separate folders based on labels and datasets.\n"
     ]
    }
   ],
   "source": [
    "import shutil\n",
    "\n",
    "# Define paths\n",
    "csv_file_path = '/kaggle/input/ai2022-competition/train.csv'\n",
    "images_dirs = {\n",
    "    'train_1': '/kaggle/input/ai2022-competition/Train_part_1/Train_part_1',\n",
    "    'train_2': '/kaggle/input/ai2022-competition/Train_part_2/Train_part_2',\n",
    "    'train_3': '/kaggle/input/ai2022-competition/Train_part_3/Train_part_3',\n",
    "}\n",
    "output_dir = '/kaggle/working/sorted_train'\n",
    "\n",
    "# Read CSV file into a pandas DataFrame\n",
    "data = pd.read_csv(csv_file_path)\n",
    "\n",
    "# Loop through each row in the DataFrame\n",
    "for index, row in data.iterrows():\n",
    "    image_filename = row['ID']\n",
    "    label = row['PoseLabel']\n",
    "\n",
    "    # Determine which dataset (folder) the image belongs toa\n",
    "    for dataset, images_dir in images_dirs.items():\n",
    "        image_src_path = os.path.join(images_dir, image_filename)\n",
    "        if os.path.exists(image_src_path):\n",
    "            # Create a folder for the label if it doesn't exista\n",
    "            label_folder = os.path.join(output_dir, label)\n",
    "            if not os.path.exists(label_folder):\n",
    "                os.makedirs(label_folder)\n",
    "\n",
    "            # Move the image to the corresponding folder\n",
    "            image_dest_path = os.path.join(label_folder, image_filename)\n",
    "            shutil.copy(image_src_path, image_dest_path)\n",
    "            break\n",
    "\n",
    "print(\"Images sorted into separate folders based on labels and datasets.\")\n",
    "\n"
   ]
  },
  {
   "cell_type": "code",
   "execution_count": 8,
   "id": "db6edc46",
   "metadata": {
    "execution": {
     "iopub.execute_input": "2023-07-28T12:45:50.184662Z",
     "iopub.status.busy": "2023-07-28T12:45:50.183991Z",
     "iopub.status.idle": "2023-07-28T12:45:50.194828Z",
     "shell.execute_reply": "2023-07-28T12:45:50.193639Z"
    },
    "papermill": {
     "duration": 0.021035,
     "end_time": "2023-07-28T12:45:50.197258",
     "exception": false,
     "start_time": "2023-07-28T12:45:50.176223",
     "status": "completed"
    },
    "tags": []
   },
   "outputs": [
    {
     "data": {
      "text/plain": [
       "80"
      ]
     },
     "execution_count": 8,
     "metadata": {},
     "output_type": "execute_result"
    }
   ],
   "source": [
    "train['PoseLabel'].nunique()"
   ]
  },
  {
   "cell_type": "code",
   "execution_count": 9,
   "id": "1daa25e4",
   "metadata": {
    "execution": {
     "iopub.execute_input": "2023-07-28T12:45:50.211133Z",
     "iopub.status.busy": "2023-07-28T12:45:50.210723Z",
     "iopub.status.idle": "2023-07-28T12:45:50.219385Z",
     "shell.execute_reply": "2023-07-28T12:45:50.218217Z"
    },
    "papermill": {
     "duration": 0.018268,
     "end_time": "2023-07-28T12:45:50.221590",
     "exception": false,
     "start_time": "2023-07-28T12:45:50.203322",
     "status": "completed"
    },
    "tags": []
   },
   "outputs": [
    {
     "data": {
      "text/plain": [
       "['sample_submission.csv',\n",
       " 'Train_part_3',\n",
       " 'Train_part_1',\n",
       " 'Train_part_2',\n",
       " 'train.csv',\n",
       " 'test.csv',\n",
       " 'Test',\n",
       " 'ReadMe.pdf']"
      ]
     },
     "execution_count": 9,
     "metadata": {},
     "output_type": "execute_result"
    }
   ],
   "source": [
    "os.listdir('/kaggle/input/ai2022-competition')"
   ]
  },
  {
   "cell_type": "code",
   "execution_count": 10,
   "id": "18e4a147",
   "metadata": {
    "execution": {
     "iopub.execute_input": "2023-07-28T12:45:50.235304Z",
     "iopub.status.busy": "2023-07-28T12:45:50.234931Z",
     "iopub.status.idle": "2023-07-28T12:45:50.242478Z",
     "shell.execute_reply": "2023-07-28T12:45:50.241440Z"
    },
    "papermill": {
     "duration": 0.017098,
     "end_time": "2023-07-28T12:45:50.244750",
     "exception": false,
     "start_time": "2023-07-28T12:45:50.227652",
     "status": "completed"
    },
    "tags": []
   },
   "outputs": [
    {
     "data": {
      "text/plain": [
       "80"
      ]
     },
     "execution_count": 10,
     "metadata": {},
     "output_type": "execute_result"
    }
   ],
   "source": [
    "len(next(os.walk('sorted_train'))[1])"
   ]
  },
  {
   "cell_type": "code",
   "execution_count": 11,
   "id": "e82eb108",
   "metadata": {
    "execution": {
     "iopub.execute_input": "2023-07-28T12:45:50.259224Z",
     "iopub.status.busy": "2023-07-28T12:45:50.258563Z",
     "iopub.status.idle": "2023-07-28T12:45:50.267284Z",
     "shell.execute_reply": "2023-07-28T12:45:50.266415Z"
    },
    "papermill": {
     "duration": 0.019054,
     "end_time": "2023-07-28T12:45:50.269940",
     "exception": false,
     "start_time": "2023-07-28T12:45:50.250886",
     "status": "completed"
    },
    "tags": []
   },
   "outputs": [
    {
     "data": {
      "text/plain": [
       "['5_17_70',\n",
       " '1_8_35',\n",
       " '3_11_63',\n",
       " '2_9_53',\n",
       " '5_17_71',\n",
       " '5_17_5',\n",
       " '5_17_43',\n",
       " '3_11_32',\n",
       " '3_12_51',\n",
       " '1_8_0',\n",
       " '0_2_22',\n",
       " '0_3_73',\n",
       " '1_5_13',\n",
       " '2_10_46',\n",
       " '0_0_8',\n",
       " '3_11_37',\n",
       " '4_14_20',\n",
       " '4_14_27',\n",
       " '1_4_3',\n",
       " '0_2_75',\n",
       " '4_13_65',\n",
       " '4_13_48',\n",
       " '2_9_14',\n",
       " '4_14_38',\n",
       " '1_7_52',\n",
       " '2_9_11',\n",
       " '5_19_4',\n",
       " '4_16_26',\n",
       " '4_13_33',\n",
       " '0_0_68',\n",
       " '1_5_1',\n",
       " '0_2_21',\n",
       " '0_1_17',\n",
       " '1_5_72',\n",
       " '4_13_25',\n",
       " '4_16_44',\n",
       " '4_15_56',\n",
       " '4_14_9',\n",
       " '4_13_79',\n",
       " '1_4_28',\n",
       " '4_13_12',\n",
       " '1_7_67',\n",
       " '1_4_57',\n",
       " '1_8_47',\n",
       " '0_3_74',\n",
       " '0_2_29',\n",
       " '0_3_39',\n",
       " '0_0_18',\n",
       " '0_2_31',\n",
       " '5_18_7',\n",
       " '3_12_45',\n",
       " '4_16_42',\n",
       " '4_13_66',\n",
       " '0_2_40',\n",
       " '2_10_19',\n",
       " '4_14_10',\n",
       " '5_17_69',\n",
       " '0_1_36',\n",
       " '1_5_30',\n",
       " '0_1_77',\n",
       " '5_17_78',\n",
       " '2_10_55',\n",
       " '0_1_60',\n",
       " '3_11_64',\n",
       " '1_4_41',\n",
       " '2_9_50',\n",
       " '1_7_49',\n",
       " '0_3_61',\n",
       " '2_9_24',\n",
       " '5_19_2',\n",
       " '3_11_23',\n",
       " '0_3_62',\n",
       " '5_17_6',\n",
       " '0_1_16',\n",
       " '1_6_76',\n",
       " '1_7_34',\n",
       " '1_6_58',\n",
       " '4_16_15',\n",
       " '1_4_59',\n",
       " '4_15_54']"
      ]
     },
     "execution_count": 11,
     "metadata": {},
     "output_type": "execute_result"
    }
   ],
   "source": [
    "os.listdir('sorted_train')"
   ]
  },
  {
   "cell_type": "markdown",
   "id": "2f47d4ed",
   "metadata": {
    "papermill": {
     "duration": 0.006224,
     "end_time": "2023-07-28T12:45:50.282697",
     "exception": false,
     "start_time": "2023-07-28T12:45:50.276473",
     "status": "completed"
    },
    "tags": []
   },
   "source": [
    "### Thus we have sorted our train data to be organised by PoseLabel which is required for the MoveNet Preprocessor to work successfully"
   ]
  },
  {
   "cell_type": "markdown",
   "id": "865f1cfe",
   "metadata": {
    "papermill": {
     "duration": 0.006254,
     "end_time": "2023-07-28T12:45:50.295798",
     "exception": false,
     "start_time": "2023-07-28T12:45:50.289544",
     "status": "completed"
    },
    "tags": []
   },
   "source": [
    "# Next Steps\n",
    "After this we downloaded the sorted_train and split it into two and preprocessed them separately because of RAM limits on Kaggle, and then preprocessed the test data as well."
   ]
  },
  {
   "cell_type": "code",
   "execution_count": null,
   "id": "099c5456",
   "metadata": {
    "papermill": {
     "duration": 0.006178,
     "end_time": "2023-07-28T12:45:50.308841",
     "exception": false,
     "start_time": "2023-07-28T12:45:50.302663",
     "status": "completed"
    },
    "tags": []
   },
   "outputs": [],
   "source": []
  }
 ],
 "metadata": {
  "kernelspec": {
   "display_name": "Python 3",
   "language": "python",
   "name": "python3"
  },
  "language_info": {
   "codemirror_mode": {
    "name": "ipython",
    "version": 3
   },
   "file_extension": ".py",
   "mimetype": "text/x-python",
   "name": "python",
   "nbconvert_exporter": "python",
   "pygments_lexer": "ipython3",
   "version": "3.10.12"
  },
  "papermill": {
   "default_parameters": {},
   "duration": 118.875493,
   "end_time": "2023-07-28T12:45:51.137623",
   "environment_variables": {},
   "exception": null,
   "input_path": "__notebook__.ipynb",
   "output_path": "__notebook__.ipynb",
   "parameters": {},
   "start_time": "2023-07-28T12:43:52.262130",
   "version": "2.4.0"
  }
 },
 "nbformat": 4,
 "nbformat_minor": 5
}
